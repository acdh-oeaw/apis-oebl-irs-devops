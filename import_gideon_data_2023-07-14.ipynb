{
 "cells": [
  {
   "cell_type": "code",
   "execution_count": 12,
   "metadata": {},
   "outputs": [],
   "source": [
    "import pandas as pd\n",
    "import os"
   ]
  },
  {
   "cell_type": "code",
   "execution_count": 23,
   "metadata": {},
   "outputs": [
    {
     "name": "stderr",
     "output_type": "stream",
     "text": [
      "/usr/local/lib/python3.8/site-packages/IPython/core/interactiveshell.py:3269: DtypeWarning: Columns (61,62,67,88,90,97,98) have mixed types.Specify dtype option on import or set low_memory=False.\n",
      "  has_raised = await self.run_ast_nodes(code_ast.body, cell_name,\n",
      "/usr/local/lib/python3.8/site-packages/IPython/core/interactiveshell.py:3269: DtypeWarning: Columns (14) have mixed types.Specify dtype option on import or set low_memory=False.\n",
      "  has_raised = await self.run_ast_nodes(code_ast.body, cell_name,\n"
     ]
    }
   ],
   "source": [
    "directory = os.fsencode(\"/workspace/gideon_data_2023-07-14\")\n",
    "csv_sheets = {}\n",
    "for file in os.listdir(directory):\n",
    "    filename = os.fsdecode(file)\n",
    "    if filename.endswith(\".csv\"):\n",
    "        csv_sheets[filename.split(\"__\")[0]] = pd.read_csv(\"/workspace/gideon_data_2023-07-14/\" + filename)"
   ]
  },
  {
   "cell_type": "code",
   "execution_count": 14,
   "metadata": {},
   "outputs": [
    {
     "data": {
      "text/plain": [
       "dict_keys(['_D_BIOGRAFIEN', '_K_PUBLIKATIONSARTEN', '_K_LAENDER', '_K_PUBLIKATIONSKATEGORIEN', '_MITARBEITER', '_BIOGRAFIEN_PUBLIKATIONEN', '_BIOGRAFIE_LITERATUR', '_K_PUBLIKATIONSSTAUS', '_K_BERUFSGRUPPEN', '_K_BERUFSUNTERGRUPPEN'])"
      ]
     },
     "execution_count": 14,
     "metadata": {},
     "output_type": "execute_result"
    }
   ],
   "source": [
    "\n",
    "csv_sheets.keys()"
   ]
  },
  {
   "cell_type": "code",
   "execution_count": 4,
   "metadata": {},
   "outputs": [
    {
     "name": "stdout",
     "output_type": "stream",
     "text": [
      "inspecting classes\n",
      "inspecting classes\n",
      "inspecting classes\n",
      "inspecting classes\n",
      "inspecting classes\n",
      "inspecting classes\n",
      "inspecting classes\n",
      "inspecting classes\n",
      "inspecting classes\n",
      "inspecting classes\n",
      "inspecting classes\n",
      "inspecting classes\n",
      "inspecting classes\n",
      "inspecting classes\n",
      "inspecting classes\n",
      "inspecting classes\n",
      "inspecting classes\n",
      "inspecting classes\n",
      "inspecting classes\n",
      "inspecting classes\n",
      "inspecting classes\n"
     ]
    }
   ],
   "source": [
    "import os\n",
    "os.environ[\"DJANGO_ALLOW_ASYNC_UNSAFE\"] = \"true\"\n",
    "os.environ[\"DJANGO_SETTINGS_MODULE\"] = \"apis.settings.dev_remote_db\"\n",
    "import django\n",
    "django.setup()                                                                                                          "
   ]
  },
  {
   "cell_type": "code",
   "execution_count": 19,
   "metadata": {},
   "outputs": [],
   "source": [
    "from oebl_research_backend.models import *\n",
    "import pandas as pd\n",
    "import numpy as np\n",
    "import re"
   ]
  },
  {
   "cell_type": "code",
   "execution_count": 7,
   "metadata": {},
   "outputs": [
    {
     "data": {
      "text/plain": [
       "79"
      ]
     },
     "execution_count": 7,
     "metadata": {},
     "output_type": "execute_result"
    }
   ],
   "source": [
    "IRSPerson.objects.all().count()"
   ]
  },
  {
   "cell_type": "code",
   "execution_count": 21,
   "metadata": {},
   "outputs": [],
   "source": [
    "\n",
    "map_user_gideon = {\n",
    "    776923: 13,\n",
    "    776922: 12,\n",
    "    2236853: 8,\n",
    "    776924: 16,\n",
    "    776926: 17,\n",
    "    2083043: 9,\n",
    "    1870444: 14\n",
    "}\n",
    "\n",
    "d_mappings = {\n",
    "    \"gender\": {\"1\": \"männlich\",\n",
    "                \"2\": \"weiblich\"\n",
    "                }\n",
    "}\n",
    "\n",
    "boolean_vals = [\"IST_ADELIG\", \".*_OK\", \"RELIGIONSWECHSEL\", \"BIO\", \"PUBLIZIERT\", \"RELIGIONSWECHSEL\"]\n",
    "pat_booleans = []\n",
    "for pat in boolean_vals:\n",
    "    pat_booleans.append(re.compile(pat))\n",
    "\n",
    "map_csv_irs = {\n",
    "    \"ADELSPRAEDIKAT\": \"nobleTitle\"\n",
    "}\n",
    "\n",
    "exclude_columns = [\".*_2\", \"DUMMY_.*\", \"TEST\", \"WERK_.*\", \"WEB_.*\", \"K_.*\", \"SUCH_.*\", \".*_OK\", \n",
    "\"NACHNAME\", \"VORNAME\", \"KK\", \"WF\", \"DOMAIN\", \"ERRATA\", \"ADDENDA\", \"AKTUELL\", \"PROJECT\", \"VERWEIS\", \"WEITERE_NAMENSFORMEN\",\n",
    "\"MODIFIZIERT_VON\", \"DUMMY\", \"KOE\", \"WEB\", \"STATUS_ID\", \"STERBETAG\", \"STERBEMONAT\", \"STERBEJAHR\", \"GBEURTSTAG\", \"GEBURTSTAGMONAT\",\n",
    "\"GEBURTSTAGJAHR\", \"PNDID\"\n",
    "]\n",
    "ex_patterns = []\n",
    "for pat in exclude_columns:\n",
    "    ex_patterns.append(re.compile(pat))"
   ]
  },
  {
   "cell_type": "code",
   "execution_count": 20,
   "metadata": {},
   "outputs": [],
   "source": [
    "\n",
    "def get_value(value, col):\n",
    "    for pat in pat_booleans:\n",
    "        if pat.fullmatch(col):\n",
    "            if isinstance(value, str):\n",
    "                if value.strip() == \"n\":\n",
    "                    return True\n",
    "                elif value.strip() == \"f\":\n",
    "                    return False\n",
    "                else:\n",
    "                    return None\n",
    "            elif isinstance(value, float):\n",
    "                if np.isnan(value):\n",
    "                    return None\n",
    "                elif value == -1.0:\n",
    "                    return True\n",
    "                elif value == 0.0:\n",
    "                    return False\n",
    "                else:\n",
    "                    return None\n",
    "    if isinstance(value, float):\n",
    "        if np.isnan(value):\n",
    "            return None\n",
    "        else:\n",
    "            return value\n",
    "    elif isinstance(value, str):\n",
    "        if value == \"?\":\n",
    "            return None\n",
    "        return value"
   ]
  },
  {
   "cell_type": "code",
   "execution_count": 22,
   "metadata": {},
   "outputs": [],
   "source": [
    "def test_col_user(col):\n",
    "    for pat in ex_patterns:\n",
    "        if pat.fullmatch(col):\n",
    "            return False\n",
    "    return True"
   ]
  },
  {
   "cell_type": "code",
   "execution_count": 53,
   "metadata": {},
   "outputs": [
    {
     "ename": "KeyboardInterrupt",
     "evalue": "",
     "output_type": "error",
     "traceback": [
      "\u001b[0;31m---------------------------------------------------------------------------\u001b[0m",
      "\u001b[0;31mKeyboardInterrupt\u001b[0m                         Traceback (most recent call last)",
      "Cell \u001b[0;32mIn[53], line 74\u001b[0m\n\u001b[1;32m     72\u001b[0m     pers[\u001b[39m\"\u001b[39m\u001b[39muris\u001b[39m\u001b[39m\"\u001b[39m] \u001b[39m=\u001b[39m [\u001b[39mf\u001b[39m\u001b[39m\"\u001b[39m\u001b[39mhttps://d-nb.info/gnd/\u001b[39m\u001b[39m{\u001b[39;00mrow[\u001b[39m'\u001b[39m\u001b[39mPNDID\u001b[39m\u001b[39m'\u001b[39m]\u001b[39m}\u001b[39;00m\u001b[39m\"\u001b[39m, ]\n\u001b[1;32m     73\u001b[0m \u001b[39mtry\u001b[39;00m:\n\u001b[0;32m---> 74\u001b[0m     i1 \u001b[39m=\u001b[39m IRSPerson\u001b[39m.\u001b[39mobjects\u001b[39m.\u001b[39mcreate(\u001b[39m*\u001b[39m\u001b[39m*\u001b[39mpers)\n\u001b[1;32m     75\u001b[0m \u001b[39mexcept\u001b[39;00m \u001b[39mException\u001b[39;00m \u001b[39mas\u001b[39;00m e:\n\u001b[1;32m     76\u001b[0m     \u001b[39mprint\u001b[39m(\u001b[39mf\u001b[39m\u001b[39m\"\u001b[39m\u001b[39merror in row \u001b[39m\u001b[39m{\u001b[39;00midx\u001b[39m}\u001b[39;00m\u001b[39m: \u001b[39m\u001b[39m{\u001b[39;00me\u001b[39m}\u001b[39;00m\u001b[39m\"\u001b[39m)\n",
      "Cell \u001b[0;32mIn[53], line 74\u001b[0m\n\u001b[1;32m     72\u001b[0m     pers[\u001b[39m\"\u001b[39m\u001b[39muris\u001b[39m\u001b[39m\"\u001b[39m] \u001b[39m=\u001b[39m [\u001b[39mf\u001b[39m\u001b[39m\"\u001b[39m\u001b[39mhttps://d-nb.info/gnd/\u001b[39m\u001b[39m{\u001b[39;00mrow[\u001b[39m'\u001b[39m\u001b[39mPNDID\u001b[39m\u001b[39m'\u001b[39m]\u001b[39m}\u001b[39;00m\u001b[39m\"\u001b[39m, ]\n\u001b[1;32m     73\u001b[0m \u001b[39mtry\u001b[39;00m:\n\u001b[0;32m---> 74\u001b[0m     i1 \u001b[39m=\u001b[39m IRSPerson\u001b[39m.\u001b[39mobjects\u001b[39m.\u001b[39mcreate(\u001b[39m*\u001b[39m\u001b[39m*\u001b[39mpers)\n\u001b[1;32m     75\u001b[0m \u001b[39mexcept\u001b[39;00m \u001b[39mException\u001b[39;00m \u001b[39mas\u001b[39;00m e:\n\u001b[1;32m     76\u001b[0m     \u001b[39mprint\u001b[39m(\u001b[39mf\u001b[39m\u001b[39m\"\u001b[39m\u001b[39merror in row \u001b[39m\u001b[39m{\u001b[39;00midx\u001b[39m}\u001b[39;00m\u001b[39m: \u001b[39m\u001b[39m{\u001b[39;00me\u001b[39m}\u001b[39;00m\u001b[39m\"\u001b[39m)\n",
      "File \u001b[0;32m_pydevd_bundle/pydevd_cython.pyx:1457\u001b[0m, in \u001b[0;36m_pydevd_bundle.pydevd_cython.SafeCallWrapper.__call__\u001b[0;34m()\u001b[0m\n",
      "File \u001b[0;32m_pydevd_bundle/pydevd_cython.pyx:701\u001b[0m, in \u001b[0;36m_pydevd_bundle.pydevd_cython.PyDBFrame.trace_dispatch\u001b[0;34m()\u001b[0m\n",
      "File \u001b[0;32m_pydevd_bundle/pydevd_cython.pyx:1152\u001b[0m, in \u001b[0;36m_pydevd_bundle.pydevd_cython.PyDBFrame.trace_dispatch\u001b[0;34m()\u001b[0m\n",
      "File \u001b[0;32m_pydevd_bundle/pydevd_cython.pyx:1135\u001b[0m, in \u001b[0;36m_pydevd_bundle.pydevd_cython.PyDBFrame.trace_dispatch\u001b[0;34m()\u001b[0m\n",
      "File \u001b[0;32m_pydevd_bundle/pydevd_cython.pyx:312\u001b[0m, in \u001b[0;36m_pydevd_bundle.pydevd_cython.PyDBFrame.do_wait_suspend\u001b[0;34m()\u001b[0m\n",
      "File \u001b[0;32m/usr/local/lib/python3.8/site-packages/debugpy/_vendored/pydevd/pydevd.py:2070\u001b[0m, in \u001b[0;36mPyDB.do_wait_suspend\u001b[0;34m(self, thread, frame, event, arg, exception_type)\u001b[0m\n\u001b[1;32m   2067\u001b[0m             from_this_thread\u001b[39m.\u001b[39mappend(frame_custom_thread_id)\n\u001b[1;32m   2069\u001b[0m     \u001b[39mwith\u001b[39;00m \u001b[39mself\u001b[39m\u001b[39m.\u001b[39m_threads_suspended_single_notification\u001b[39m.\u001b[39mnotify_thread_suspended(thread_id, thread, stop_reason):\n\u001b[0;32m-> 2070\u001b[0m         keep_suspended \u001b[39m=\u001b[39m \u001b[39mself\u001b[39;49m\u001b[39m.\u001b[39;49m_do_wait_suspend(thread, frame, event, arg, suspend_type, from_this_thread, frames_tracker)\n\u001b[1;32m   2072\u001b[0m frames_list \u001b[39m=\u001b[39m \u001b[39mNone\u001b[39;00m\n\u001b[1;32m   2074\u001b[0m \u001b[39mif\u001b[39;00m keep_suspended:\n\u001b[1;32m   2075\u001b[0m     \u001b[39m# This means that we should pause again after a set next statement.\u001b[39;00m\n",
      "File \u001b[0;32m/usr/local/lib/python3.8/site-packages/debugpy/_vendored/pydevd/pydevd.py:2106\u001b[0m, in \u001b[0;36mPyDB._do_wait_suspend\u001b[0;34m(self, thread, frame, event, arg, suspend_type, from_this_thread, frames_tracker)\u001b[0m\n\u001b[1;32m   2103\u001b[0m         \u001b[39mself\u001b[39m\u001b[39m.\u001b[39m_call_input_hook()\n\u001b[1;32m   2105\u001b[0m     \u001b[39mself\u001b[39m\u001b[39m.\u001b[39mprocess_internal_commands()\n\u001b[0;32m-> 2106\u001b[0m     time\u001b[39m.\u001b[39;49msleep(\u001b[39m0.01\u001b[39;49m)\n\u001b[1;32m   2108\u001b[0m \u001b[39mself\u001b[39m\u001b[39m.\u001b[39mcancel_async_evaluation(get_current_thread_id(thread), \u001b[39mstr\u001b[39m(\u001b[39mid\u001b[39m(frame)))\n\u001b[1;32m   2110\u001b[0m \u001b[39m# process any stepping instructions\u001b[39;00m\n",
      "\u001b[0;31mKeyboardInterrupt\u001b[0m: "
     ]
    }
   ],
   "source": [
    "lists_ent = {}\n",
    "for idx, row in csv_sheets[\"_D_BIOGRAFIEN\"].iterrows():\n",
    "    # if np.isnan(row[\"STERBEJAHR\"]):\n",
    "    #     continue\n",
    "    # if int(row[\"STERBEJAHR\"]) < 1951:\n",
    "    #     continue\n",
    "    # if idx < 31:\n",
    "    #     continue\n",
    "    pers = {\n",
    "        \"name\": get_value(row[\"NACHNAME\"], \"NACHNAME\"),\n",
    "        \"first_name\": get_value(row[\"VORNAME\"], \"VORNAME\"),\n",
    "    }\n",
    "    if not np.isnan(row[\"GEBURTSJAHR\"]):\n",
    "        pers[\"date_of_birth\"] = f\"{int(row['GEBURTSJAHR'])}\"\n",
    "        if not np.isnan(row[\"GEBURTSTAGMONAT\"]):\n",
    "            pers[\"date_of_birth\"] += f'-{int(row[\"GEBURTSTAGMONAT\"])}'.strip()\n",
    "            if not np.isnan(row[\"GBEURTSTAG\"]):\n",
    "                pers[\"date_of_birth\"] += f'-{int(row[\"GBEURTSTAG\"])}'.strip()\n",
    "            else:\n",
    "                pers[\"date_of_birth\"] += '-01'\n",
    "        else:\n",
    "            pers[\"date_of_birth\"] += '-01-01'\n",
    "    if not np.isnan(row[\"STERBEJAHR\"]):\n",
    "        pers[\"date_of_death\"] = f\"{int(row['STERBEJAHR'])}\"\n",
    "        if not np.isnan(row[\"STERBETAGMONAT\"]):\n",
    "            pers[\"date_of_death\"] += f'-{int(row[\"STERBETAGMONAT\"])}'.strip()\n",
    "            if not np.isnan(row[\"STERBETAG\"]):\n",
    "                pers[\"date_of_death\"] += f'-{int(row[\"STERBETAG\"])}'.strip()\n",
    "            else:\n",
    "                pers[\"date_of_death\"] += '-01'\n",
    "        else:\n",
    "            pers[\"date_of_death\"] += '-01-01'\n",
    "    if row[\"K_GESCHLECHT_ID\"] == 1:\n",
    "        pers[\"gender\"] = \"männlich\" \n",
    "    elif row[\"K_GESCHLECHT_ID\"] == 2:\n",
    "        pers[\"gender\"] = \"weiblich\"\n",
    "    else:\n",
    "        pers[\"gender\"] = \"unbekannt\"\n",
    "    if not np.isnan(row[\"K_BERUFSGRUPPEN_ID\"]):\n",
    "        r_bg = csv_sheets[\"_K_BERUFSGRUPPEN\"].loc[(csv_sheets[\"_K_BERUFSGRUPPEN\"][\"ID\"] == row[\"K_BERUFSGRUPPEN_ID\"])]\n",
    "        if r_bg.shape[0] == 1:\n",
    "            bg, created = ProfessionGroup.objects.get_or_create(name=r_bg.iloc[0][\"TITEL\"])\n",
    "            pers[\"profession_group\"] = bg\n",
    "        elif r_bg.shape[0] > 1:\n",
    "            print(f\"several profession groups, row {idx}\")\n",
    "        else:\n",
    "            print(f\"no profession group specified, row {idx}\")\n",
    "    if isinstance(row[\"BERUF\"], str):\n",
    "        pers[\"profession_detail\"] = get_value(row[\"BERUF\"], \"BERUF\")\n",
    "    lit_gideon = []\n",
    "    for idx_lit, row_lit in csv_sheets[\"_BIOGRAFIE_LITERATUR\"].loc[(csv_sheets[\"_BIOGRAFIE_LITERATUR\"][\"BIOGRAFIE_ID\"] == row[\"ID\"])].iterrows():\n",
    "        lit_gideon.append({\n",
    "            \"id\": row_lit[\"ID\"],\n",
    "            \"value\": row_lit[\"ZITAT\"]\n",
    "        })\n",
    "    if len(lit_gideon) > 0:\n",
    "        pers[\"gideon_legacy_literature\"] = lit_gideon\n",
    "    #pers[\"alternative_names\"] = [{\"first_name\":\"test1\", \"last_name\": \"test2\"}]\n",
    "    if isinstance(row[\"LEBENSLAUF\"], str):\n",
    "        if len(row[\"LEBENSLAUF\"]) > 0:\n",
    "            pers[\"bio_note\"] = row[\"LEBENSLAUF\"]\n",
    "    if isinstance(row[\"WEITERE_NAMENSFORMEN\"], str):\n",
    "        if len(row[\"WEITERE_NAMENSFORMEN\"]) > 0:\n",
    "            pers[\"alternative_names\"] = [{\n",
    "                \"first_name\": \"-\",\n",
    "                \"last_name\": row[\"WEITERE_NAMENSFORMEN\"]\n",
    "            }]\n",
    "    pers[\"uris\"] = []\n",
    "    if isinstance(row[\"PNDID\"], str):\n",
    "        pers[\"uris\"] = [f\"https://d-nb.info/gnd/{row['PNDID']}\", ]\n",
    "    try:\n",
    "        i1 = IRSPerson.objects.create(**pers)\n",
    "    except Exception as e:\n",
    "        print(f\"error in row {idx}: {e}\")\n",
    "        continue\n",
    "    list_ent_dict = {\n",
    "        \"person\": i1, \n",
    "        \"source_id\": int(row[\"ID\"]),\n",
    "        \"columns_scrape\": {\"obv\": [], \"wikipedia\": [], \"wikidata\": []},\n",
    "        \"scrape\": {\"obv\": [], \"wikipedia\": [], \"wikidata\": []},\n",
    "        \"columns_user\": {\"selected\": False}\n",
    "        }\n",
    "    pub_entry = csv_sheets[\"_BIOGRAFIEN_PUBLIKATIONEN\"].loc[(csv_sheets[\"_BIOGRAFIEN_PUBLIKATIONEN\"][\"BIOGRAFIE_ID\"] == row[\"ID\"])]\n",
    "    if len(pub_entry) > 0:\n",
    "        print(pub_entry)\n",
    "        print(pub_entry[\"PUB_STATUS_ID\"].iloc[0])\n",
    "        list_ent_dict[\"columns_user\"][\"Gideon | Status\"] = csv_sheets[\"_K_PUBLIKATIONSSTAUS\"].loc[(csv_sheets[\"_K_PUBLIKATIONSSTAUS\"][\"ID\"] == pub_entry[\"PUB_STATUS_ID\"].iloc[0])][\"TITEL\"].iloc[0]\n",
    "        list_ent_dict[\"columns_user\"][\"Gideon | Kategorie\"] = csv_sheets[\"_K_PUBLIKATIONSKATEGORIEN\"].loc[(csv_sheets[\"_K_PUBLIKATIONSKATEGORIEN\"][\"ID\"] == pub_entry[\"K_PUBLIKATIONSKATEGORIEN_ID\"].iloc[0])][\"TITEL\"].iloc[0]\n",
    "        list_ent_dict[\"columns_user\"][\"Gideon | Art\"] = csv_sheets[\"_K_PUBLIKATIONSARTEN\"].loc[(csv_sheets[\"_K_PUBLIKATIONSARTEN\"][\"ID\"] == pub_entry[\"PUBLIKATIONS_ART\"].iloc[0])][\"TITEL\"].iloc[0]\n",
    "        list_ent_dict[\"columns_user\"][\"Gideon | Band\"] = pub_entry[\"BAND\"].iloc[0] if not np.isnan(pub_entry[\"BAND\"].iloc[0]) else \"-\"\n",
    "        list_ent_dict[\"columns_user\"][\"Gideon | Lieferung\"] = pub_entry[\"LIEFERUNG\"].iloc[0] if not np.isnan(pub_entry[\"LIEFERUNG\"].iloc[0]) else \"-\"\n",
    "        list_ent_dict[\"columns_user\"][\"Gideon | Publikationsjahr\"] = pub_entry[\"PUB_JJJJ\"].iloc[0] if not np.isnan(pub_entry[\"PUB_JJJJ\"].iloc[0]) else \"-\"\n",
    "        if not np.isnan(pub_entry[\"FACHREDAKTEUR_ID\"].iloc[0]):\n",
    "            editor = csv_sheets[\"_MITARBEITER\"].loc[(csv_sheets[\"_MITARBEITER\"][\"ID\"] == pub_entry[\"FACHREDAKTEUR_ID\"].iloc[0])]\n",
    "            if editor.shape[0] == 1:\n",
    "                editor_name = editor.iloc[0][\"NAME\"]\n",
    "                if editor_name not in lists_ent.keys():\n",
    "                    d_list = {\"title\": f\"Gideon {editor_name}\"}\n",
    "                    if int(row[\"USERID\"]) in map_user_gideon.keys():\n",
    "                        d_list[\"editor_id\"] = map_user_gideon[int(row[\"USERID\"])]\n",
    "                    list_new, created = List.objects.get_or_create(**d_list)\n",
    "                    lists_ent[editor_name] = list_new\n",
    "                list_ent_dict[\"list\"] = lists_ent[editor_name]\n",
    "    for col in csv_sheets[\"_D_BIOGRAFIEN\"].columns:\n",
    "        if not test_col_user(col):\n",
    "            continue\n",
    "        if isinstance(row[col], float):\n",
    "            if np.isnan(row[col]):\n",
    "                continue\n",
    "        col_name = col\n",
    "        if col in map_csv_irs.keys():\n",
    "            col_name = map_csv_irs[col]\n",
    "        list_ent_dict[\"columns_user\"][col_name] = get_value(row[col], col)\n",
    "\n",
    "    ListEntry.objects.create(**list_ent_dict)\n"
   ]
  },
  {
   "cell_type": "code",
   "execution_count": 52,
   "metadata": {},
   "outputs": [
    {
     "data": {
      "text/plain": [
       "(14, {'oebl_research_backend.List': 14})"
      ]
     },
     "execution_count": 52,
     "metadata": {},
     "output_type": "execute_result"
    }
   ],
   "source": [
    "IRSPerson.objects.all().delete()\n",
    "ListEntry.objects.all().delete()\n",
    "List.objects.all().delete()"
   ]
  },
  {
   "cell_type": "code",
   "execution_count": 51,
   "metadata": {},
   "outputs": [
    {
     "data": {
      "text/plain": [
       "12057"
      ]
     },
     "execution_count": 51,
     "metadata": {},
     "output_type": "execute_result"
    }
   ],
   "source": [
    "IRSPerson.objects.all().count()"
   ]
  },
  {
   "cell_type": "code",
   "execution_count": null,
   "metadata": {},
   "outputs": [],
   "source": []
  }
 ],
 "metadata": {
  "kernelspec": {
   "display_name": "Python 3",
   "language": "python",
   "name": "python3"
  },
  "language_info": {
   "codemirror_mode": {
    "name": "ipython",
    "version": 3
   },
   "file_extension": ".py",
   "mimetype": "text/x-python",
   "name": "python",
   "nbconvert_exporter": "python",
   "pygments_lexer": "ipython3",
   "version": "3.8.17"
  },
  "orig_nbformat": 4
 },
 "nbformat": 4,
 "nbformat_minor": 2
}
